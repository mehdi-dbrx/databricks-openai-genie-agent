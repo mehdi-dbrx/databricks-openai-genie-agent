{
 "cells": [
  {
   "cell_type": "markdown",
   "metadata": {
    "application/vnd.databricks.v1+cell": {
     "cellMetadata": {},
     "inputWidgets": {},
     "nuid": "64a67ba5-b73e-410d-acfe-d1f1672fc5e3",
     "showTitle": false,
     "tableResultSettingsMap": {},
     "title": ""
    }
   },
   "source": [
    "#Tool-calling Agent\n",
    "\n",
    "This is an auto-generated notebook created by an AI playground export. In this notebook, you will:\n",
    "- Author a tool-calling [MLflow's `ResponsesAgent`](https://mlflow.org/docs/latest/api_reference/python_api/mlflow.pyfunc.html#mlflow.pyfunc.ResponsesAgent) that uses the OpenAI client\n",
    "- Manually test the agent's output\n",
    "- Evaluate the agent with Mosaic AI Agent Evaluation\n",
    "- Log and deploy the agent\n",
    "\n",
    "This notebook should be run on serverless or a cluster with DBR<17.\n",
    "\n",
    " **_NOTE:_**  This notebook uses the OpenAI SDK, but AI Agent Framework is compatible with any agent authoring framework, including LlamaIndex or LangGraph. To learn more, see the [Authoring Agents](https://learn.microsoft.com/azure/databricks/generative-ai/agent-framework/author-agent) Databricks documentation.\n",
    "\n",
    "## Prerequisites\n",
    "\n",
    "- Address all `TODO`s in this notebook."
   ]
  },
  {
   "cell_type": "code",
   "execution_count": 0,
   "metadata": {
    "application/vnd.databricks.v1+cell": {
     "cellMetadata": {
      "byteLimit": 2048000,
      "rowLimit": 10000
     },
     "inputWidgets": {},
     "nuid": "c33f90e3-d519-45aa-8ccb-5b568cced466",
     "showTitle": false,
     "tableResultSettingsMap": {},
     "title": ""
    }
   },
   "outputs": [
    {
     "output_type": "stream",
     "name": "stdout",
     "output_type": "stream",
     "text": [
      "ERROR: pip's dependency resolver does not currently take into account all the packages that are installed. This behaviour is the source of the following dependency conflicts.\njupyter-server 1.23.4 requires anyio<4,>=3.1.0, but you have anyio 4.10.0 which is incompatible.\n\u001B[43mNote: you may need to restart the kernel using %restart_python or dbutils.library.restartPython() to use updated packages.\u001B[0m\n"
     ]
    }
   ],
   "source": [
    "%pip install -U -qqqq backoff databricks-openai uv databricks-agents mlflow-skinny[databricks]\n",
    "dbutils.library.restartPython()"
   ]
  },
  {
   "cell_type": "markdown",
   "metadata": {
    "application/vnd.databricks.v1+cell": {
     "cellMetadata": {},
     "inputWidgets": {},
     "nuid": "f685420c-4fc7-435a-8571-dc4870f6b7ad",
     "showTitle": false,
     "tableResultSettingsMap": {},
     "title": ""
    }
   },
   "source": [
    "## Define the agent in code\n",
    "Below we define our agent code in a single cell, enabling us to easily write it to a local Python file for subsequent logging and deployment using the `%%writefile` magic command.\n",
    "\n",
    "For more examples of tools to add to your agent, see [docs](https://learn.microsoft.com/azure/databricks/generative-ai/agent-framework/agent-tool)."
   ]
  },
  {
   "cell_type": "code",
   "execution_count": 0,
   "metadata": {
    "application/vnd.databricks.v1+cell": {
     "cellMetadata": {
      "byteLimit": 2048000,
      "rowLimit": 10000
     },
     "inputWidgets": {},
     "nuid": "814508cb-79fe-4ddb-ae4e-813ac9f85fa4",
     "showTitle": false,
     "tableResultSettingsMap": {},
     "title": ""
    }
   },
   "outputs": [
    {
     "output_type": "stream",
     "name": "stdout",
     "output_type": "stream",
     "text": [
      "Writing agent.py\n"
     ]
    }
   ],
   "source": [
    "%%writefile agent.py\n",
    "import json\n",
    "from typing import Any, Callable, Generator, Optional\n",
    "from uuid import uuid4\n",
    "import warnings\n",
    "\n",
    "import backoff\n",
    "import mlflow\n",
    "import openai\n",
    "from databricks.sdk import WorkspaceClient\n",
    "from databricks_openai import UCFunctionToolkit, VectorSearchRetrieverTool\n",
    "from mlflow.entities import SpanType\n",
    "from mlflow.pyfunc import ResponsesAgent\n",
    "from mlflow.types.responses import (\n",
    "    ResponsesAgentRequest,\n",
    "    ResponsesAgentResponse,\n",
    "    ResponsesAgentStreamEvent,\n",
    ")\n",
    "from openai import OpenAI\n",
    "from pydantic import BaseModel\n",
    "from unitycatalog.ai.core.base import get_uc_function_client\n",
    "\n",
    "from genie_agent import GenieAgent\n",
    "\n",
    "\n",
    "############################################\n",
    "# Define your LLM endpoint and system prompt\n",
    "############################################\n",
    "LLM_ENDPOINT_NAME = \"databricks-claude-sonnet-4\"\n",
    "\n",
    "SYSTEM_PROMPT = \"\"\"\"\"\"\n",
    "\n",
    "GENIE_SPACE_ID = \"01f095687efd1ba28b49ee43a1e9161b\"\n",
    "genie_agent_description = \"Teva Genie\"\n",
    "\n",
    "genie_agent = GenieAgent(\n",
    "    genie_space_id=GENIE_SPACE_ID,\n",
    "    genie_agent_name=\"Genie\",\n",
    "    description=genie_agent_description,\n",
    "    client=WorkspaceClient(\n",
    "        host=os.getenv(\"DB_MODEL_SERVING_HOST_URL\"),\n",
    "        token=os.getenv(\"DATABRICKS_GENIE_PAT\"),\n",
    "    ),\n",
    ")\n",
    "\n",
    "\n",
    "###############################################################################\n",
    "## Define tools for your agent, enabling it to retrieve data or take actions\n",
    "## beyond text generation\n",
    "## To create and see usage examples of more tools, see\n",
    "## https://learn.microsoft.com/azure/databricks/generative-ai/agent-framework/agent-tool\n",
    "###############################################################################\n",
    "class ToolInfo(BaseModel):\n",
    "    \"\"\"\n",
    "    Class representing a tool for the agent.\n",
    "    - \"name\" (str): The name of the tool.\n",
    "    - \"spec\" (dict): JSON description of the tool (matches OpenAI Responses format)\n",
    "    - \"exec_fn\" (Callable): Function that implements the tool logic\n",
    "    \"\"\"\n",
    "\n",
    "    name: str\n",
    "    spec: dict\n",
    "    exec_fn: Callable\n",
    "\n",
    "\n",
    "def create_tool_info(tool_spec, exec_fn_param: Optional[Callable] = None):\n",
    "    tool_spec[\"function\"].pop(\"strict\", None)\n",
    "    tool_name = tool_spec[\"function\"][\"name\"]\n",
    "    udf_name = tool_name.replace(\"__\", \".\")\n",
    "\n",
    "    # Define a wrapper that accepts kwargs for the UC tool call,\n",
    "    # then passes them to the UC tool execution client\n",
    "    def exec_fn(**kwargs):\n",
    "        function_result = uc_function_client.execute_function(udf_name, kwargs)\n",
    "        if function_result.error is not None:\n",
    "            return function_result.error\n",
    "        else:\n",
    "            return function_result.value\n",
    "    return ToolInfo(name=tool_name, spec=tool_spec, exec_fn=exec_fn_param or exec_fn)\n",
    "\n",
    "\n",
    "TOOL_INFOS = []\n",
    "\n",
    "# Add GenieAgent to tools\n",
    "genie_tool_info = ToolInfo(\n",
    "    name=genie_agent.tool[\"function\"][\"name\"],\n",
    "    spec=genie_agent.tool,\n",
    "    exec_fn=genie_agent.execute\n",
    ")\n",
    "TOOL_INFOS.append(genie_tool_info)\n",
    "\n",
    "# You can use UDFs in Unity Catalog as agent tools\n",
    "# TODO: Add additional tools\n",
    "UC_TOOL_NAMES = []\n",
    "\n",
    "uc_toolkit = UCFunctionToolkit(function_names=UC_TOOL_NAMES)\n",
    "uc_function_client = get_uc_function_client()\n",
    "for tool_spec in uc_toolkit.tools:\n",
    "    TOOL_INFOS.append(create_tool_info(tool_spec))\n",
    "\n",
    "\n",
    "# Use Databricks vector search indexes as tools\n",
    "# See [docs](https://learn.microsoft.com/azure/databricks/generative-ai/agent-framework/unstructured-retrieval-tools) for details\n",
    "\n",
    "# # (Optional) Use Databricks vector search indexes as tools\n",
    "# # See https://learn.microsoft.com/azure/databricks/generative-ai/agent-framework/unstructured-retrieval-tools\n",
    "# # for details\n",
    "VECTOR_SEARCH_TOOLS = []\n",
    "# # TODO: Add vector search indexes as tools or delete this block\n",
    "# VECTOR_SEARCH_TOOLS.append(\n",
    "#         VectorSearchRetrieverTool(\n",
    "#         index_name=\"\",\n",
    "#         # filters=\"...\"\n",
    "#     )\n",
    "# )\n",
    "for vs_tool in VECTOR_SEARCH_TOOLS:\n",
    "    TOOL_INFOS.append(create_tool_info(vs_tool.tool, vs_tool.execute))\n",
    "\n",
    "class ToolCallingAgent(ResponsesAgent):\n",
    "    \"\"\"\n",
    "    Class representing a tool-calling Agent\n",
    "    \"\"\"\n",
    "\n",
    "    def __init__(self, llm_endpoint: str, tools: list[ToolInfo]):\n",
    "        \"\"\"Initializes the ToolCallingAgent with tools.\"\"\"\n",
    "        self.llm_endpoint = llm_endpoint\n",
    "        self.workspace_client = WorkspaceClient()\n",
    "        self.model_serving_client: OpenAI = (\n",
    "            self.workspace_client.serving_endpoints.get_open_ai_client()\n",
    "        )\n",
    "        self._tools_dict = {tool.name: tool for tool in tools}\n",
    "\n",
    "    def get_tool_specs(self) -> list[dict]:\n",
    "        \"\"\"Returns tool specifications in the format OpenAI expects.\"\"\"\n",
    "        return [tool_info.spec for tool_info in self._tools_dict.values()]\n",
    "\n",
    "    @mlflow.trace(span_type=SpanType.TOOL)\n",
    "    def execute_tool(self, tool_name: str, args: dict) -> Any:\n",
    "        \"\"\"Executes the specified tool with the given arguments.\"\"\"\n",
    "        return self._tools_dict[tool_name].exec_fn(**args)\n",
    "\n",
    "    def call_llm(self, messages: list[dict[str, Any]]) -> Generator[dict[str, Any], None, None]:\n",
    "        with warnings.catch_warnings():\n",
    "            warnings.filterwarnings(\"ignore\", message=\"PydanticSerializationUnexpectedValue\")\n",
    "            for chunk in self.model_serving_client.chat.completions.create(\n",
    "                model=self.llm_endpoint,\n",
    "                messages=self.prep_msgs_for_cc_llm(messages),\n",
    "                tools=self.get_tool_specs(),\n",
    "                stream=True,\n",
    "            ):\n",
    "                yield chunk.to_dict()\n",
    "\n",
    "    def handle_tool_call(\n",
    "        self,\n",
    "        tool_call: dict[str, Any],\n",
    "        messages: list[dict[str, Any]],\n",
    "    ) -> ResponsesAgentStreamEvent:\n",
    "        \"\"\"\n",
    "        Execute tool calls, add them to the running message history, and return a ResponsesStreamEvent w/ tool output\n",
    "        \"\"\"\n",
    "        args = json.loads(tool_call[\"arguments\"])\n",
    "        result = str(self.execute_tool(tool_name=tool_call[\"name\"], args=args))\n",
    "\n",
    "        tool_call_output = self.create_function_call_output_item(tool_call[\"call_id\"], result)\n",
    "        messages.append(tool_call_output)\n",
    "        return ResponsesAgentStreamEvent(type=\"response.output_item.done\", item=tool_call_output)\n",
    "\n",
    "    def call_and_run_tools(\n",
    "        self,\n",
    "        messages: list[dict[str, Any]],\n",
    "        max_iter: int = 10,\n",
    "    ) -> Generator[ResponsesAgentStreamEvent, None, None]:\n",
    "        for _ in range(max_iter):\n",
    "            last_msg = messages[-1]\n",
    "            if last_msg.get(\"role\", None) == \"assistant\":\n",
    "                return\n",
    "            elif last_msg.get(\"type\", None) == \"function_call\":\n",
    "                yield self.handle_tool_call(last_msg, messages)\n",
    "            else:\n",
    "                yield from self.output_to_responses_items_stream(\n",
    "                    chunks=self.call_llm(messages), aggregator=messages\n",
    "                )\n",
    "\n",
    "        yield ResponsesAgentStreamEvent(\n",
    "            type=\"response.output_item.done\",\n",
    "            item=self.create_text_output_item(\"Max iterations reached. Stopping.\", str(uuid4())),\n",
    "        )\n",
    "\n",
    "    def predict(self, request: ResponsesAgentRequest) -> ResponsesAgentResponse:\n",
    "        outputs = [\n",
    "            event.item\n",
    "            for event in self.predict_stream(request)\n",
    "            if event.type == \"response.output_item.done\"\n",
    "        ]\n",
    "        return ResponsesAgentResponse(output=outputs, custom_outputs=request.custom_inputs)\n",
    "\n",
    "    def predict_stream(\n",
    "        self, request: ResponsesAgentRequest\n",
    "    ) -> Generator[ResponsesAgentStreamEvent, None, None]:\n",
    "        messages = self.prep_msgs_for_cc_llm([i.model_dump() for i in request.input])\n",
    "        if SYSTEM_PROMPT:\n",
    "            messages.insert(0, {\"role\": \"system\", \"content\": SYSTEM_PROMPT})\n",
    "        yield from self.call_and_run_tools(messages=messages)\n",
    "\n",
    "\n",
    "# Log the model using MLflow\n",
    "mlflow.openai.autolog()\n",
    "AGENT = ToolCallingAgent(llm_endpoint=LLM_ENDPOINT_NAME, tools=TOOL_INFOS)\n",
    "mlflow.models.set_model(AGENT)"
   ]
  },
  {
   "cell_type": "markdown",
   "metadata": {
    "application/vnd.databricks.v1+cell": {
     "cellMetadata": {},
     "inputWidgets": {},
     "nuid": "849a79fd-8303-44ec-8aaf-95eb8aa22341",
     "showTitle": false,
     "tableResultSettingsMap": {},
     "title": ""
    }
   },
   "source": [
    "## Test the agent\n",
    "\n",
    "Interact with the agent to test its output. Since we manually traced methods within `ResponsesAgent`, you can view the trace for each step the agent takes, with any LLM calls made via the OpenAI SDK automatically traced by autologging.\n",
    "\n",
    "Replace this placeholder input with an appropriate domain-specific example for your agent."
   ]
  },
  {
   "cell_type": "code",
   "execution_count": 0,
   "metadata": {
    "application/vnd.databricks.v1+cell": {
     "cellMetadata": {
      "byteLimit": 2048000,
      "rowLimit": 10000
     },
     "inputWidgets": {},
     "nuid": "c684afb3-3c06-40df-847a-7f0c4f01b28c",
     "showTitle": false,
     "tableResultSettingsMap": {},
     "title": ""
    }
   },
   "outputs": [],
   "source": [
    "dbutils.library.restartPython()"
   ]
  },
  {
   "cell_type": "code",
   "execution_count": 0,
   "metadata": {
    "application/vnd.databricks.v1+cell": {
     "cellMetadata": {
      "byteLimit": 2048000,
      "rowLimit": 10000
     },
     "inputWidgets": {},
     "nuid": "a08d5779-9c14-46f0-b189-cecd4378b3d2",
     "showTitle": false,
     "tableResultSettingsMap": {},
     "title": ""
    }
   },
   "outputs": [
    {
     "output_type": "stream",
     "name": "stderr",
     "output_type": "stream",
     "text": [
      "/local_disk0/.ephemeral_nfs/envs/pythonEnv-41f1d84d-e7d7-43a4-8b30-4f39316e4472/lib/python3.10/site-packages/databricks/connect/session.py:454: UserWarning: Ignoring the default notebook Spark session and creating a new Spark Connect session. To use the default notebook Spark session, use DatabricksSession.builder.getOrCreate() with no additional parameters.\n  warnings.warn(new_notebook_session_msg)\n"
     ]
    },
    {
     "output_type": "execute_result",
     "data": {
      "text/plain": [
       "ResponsesAgentResponse(tool_choice=None, truncation=None, id=None, created_at=None, error=None, incomplete_details=None, instructions=None, metadata=None, model=None, object='response', output=[OutputItem(type='message', id='msg_bdrk_01DZFMEHqFZx6TSpJpcGq75w', content=[{'text': \"I'll ask the Teva Genie about what the Teva dataset contains.\", 'type': 'output_text'}], role='assistant'), OutputItem(type='function_call', id='msg_bdrk_01DZFMEHqFZx6TSpJpcGq75w', call_id='toolu_bdrk_01DPDB66KgUuuAowAawpdJk5', name='genie', arguments='{\"query\": \"What is the Teva dataset about? What kind of data does it contain?\"}'), OutputItem(type='function_call_output', call_id='toolu_bdrk_01DPDB66KgUuuAowAawpdJk5', output='{\\n  \"result\": \"- The Teva dataset contains statistics from national and regional medical care surveys (NHMACS and NMACS) focusing on schizophrenia patients in the United States.\\\\n- It includes average annual frequency distributions of schizophrenia cases, broken down by race, ethnicity, and geographic region.\\\\n- The data provides both imputed (missing race/ethnicity statistically estimated) and unimputed (original, unfilled) versions, with columns for weighted frequencies, percentages, standard deviations, standard errors, and reliability flags.\",\\n  \"conversation_id\": \"01f096d2233f1b869d5ebbd8c26f56b0\"\\n}'), OutputItem(type='message', id='msg_bdrk_014PRW6CwFNYgLZfYzHLZ7AD', content=[{'text': 'The Teva dataset is about **schizophrenia patients in the United States** and contains medical care survey statistics. Specifically, it includes:\\n\\n**Data Source:**\\n- Statistics from national and regional medical care surveys (NHMACS and NMACS)\\n\\n**Content:**\\n- Average annual frequency distributions of schizophrenia cases\\n- Data broken down by:\\n  - Race\\n  - Ethnicity  \\n  - Geographic region\\n\\n**Data Structure:**\\n- Both imputed and unimputed versions of the data\\n  - **Imputed**: Missing race/ethnicity information is statistically estimated\\n  - **Unimputed**: Original data with unfilled missing values\\n- Statistical measures including:\\n  - Weighted frequencies\\n  - Percentages\\n  - Standard deviations\\n  - Standard errors\\n  - Reliability flags\\n\\nThis dataset appears to be designed for analyzing demographic and geographic patterns in schizophrenia cases across the United States healthcare system.', 'type': 'output_text'}], role='assistant')], parallel_tool_calls=None, temperature=None, tools=None, top_p=None, max_output_tokens=None, previous_response_id=None, reasoning=None, status=None, text=None, usage=None, user=None, custom_outputs=None)"
      ]
     },
     "execution_count": 3,
     "metadata": {},
     "output_type": "execute_result"
    },
    {
     "output_type": "display_data",
     "data": {
      "application/databricks.mlflow.trace": "\"tr-24813dd9c90e38017e9e2ad39d760190\"",
      "text/plain": [
       "Trace(trace_id=tr-24813dd9c90e38017e9e2ad39d760190)"
      ]
     },
     "metadata": {},
     "output_type": "display_data"
    }
   ],
   "source": [
    "from agent import AGENT\n",
    "\n",
    "AGENT.predict({\"input\": [{\"role\": \"user\", \"content\": \"what is the Teva dataset about\"}]})"
   ]
  },
  {
   "cell_type": "code",
   "execution_count": 0,
   "metadata": {
    "application/vnd.databricks.v1+cell": {
     "cellMetadata": {
      "byteLimit": 2048000,
      "rowLimit": 10000
     },
     "inputWidgets": {},
     "nuid": "3f90a738-af00-4d29-b113-cabefbcba110",
     "showTitle": false,
     "tableResultSettingsMap": {},
     "title": ""
    }
   },
   "outputs": [
    {
     "output_type": "execute_result",
     "data": {
      "text/plain": [
       "ResponsesAgentResponse(tool_choice=None, truncation=None, id=None, created_at=None, error=None, incomplete_details=None, instructions=None, metadata=None, model=None, object='response', output=[OutputItem(type='message', id='msg_bdrk_01PNC8es68zXok5Nn9upJwrC', content=[{'text': \"I'll help you find the average weighted frequency of schizophrenia cases by race and ethnicity categories in the NHMACS national dataset.\", 'type': 'output_text'}], role='assistant'), OutputItem(type='function_call', id='msg_bdrk_01PNC8es68zXok5Nn9upJwrC', call_id='toolu_bdrk_013nkHt99KTcVaVazZTgNQvW', name='genie', arguments='{\"query\": \"What is the average weighted frequency of schizophrenia cases for different race and ethnicity categories in the NHMACS national dataset?\"}'), OutputItem(type='function_call_output', call_id='toolu_bdrk_013nkHt99KTcVaVazZTgNQvW', output='{\\n  \"result\": \"|    | race_ethnicity_imputed   |   wgtfreq |\\\\n|---:|:-------------------------|----------:|\\\\n|  0 | Non-Hispanic White       |     85249 |\\\\n|  1 | Non-Hispanic Black       |     97282 |\\\\n|  2 | Hispanic                 |     28633 |\\\\n|  3 | Non-Hispanic Other       |      6982 |\",\\n  \"conversation_id\": \"01f096d2caa41b89879de042c3669c67\"\\n}'), OutputItem(type='message', id='msg_bdrk_01RkFCKNwBP5RwD1S66zfpJK', content=[{'text': 'Based on the NHMACS national dataset, here are the average weighted frequencies of schizophrenia cases by race and ethnicity categories:\\n\\n| Race/Ethnicity Category | Average Weighted Frequency |\\n|------------------------|---------------------------|\\n| Non-Hispanic White     | 85,249                    |\\n| Non-Hispanic Black     | 97,282                    |\\n| Hispanic               | 28,633                    |\\n| Non-Hispanic Other     | 6,982                     |\\n\\nKey findings:\\n- **Non-Hispanic Black** individuals have the highest average weighted frequency of schizophrenia cases (97,282)\\n- **Non-Hispanic White** individuals have the second highest frequency (85,249)\\n- **Hispanic** individuals have a notably lower frequency (28,633)\\n- **Non-Hispanic Other** category has the lowest frequency (6,982)\\n\\nThis data suggests there are significant disparities in schizophrenia case frequencies across different racial and ethnic groups in the national dataset, with Non-Hispanic Black individuals showing the highest weighted frequency.', 'type': 'output_text'}], role='assistant')], parallel_tool_calls=None, temperature=None, tools=None, top_p=None, max_output_tokens=None, previous_response_id=None, reasoning=None, status=None, text=None, usage=None, user=None, custom_outputs=None)"
      ]
     },
     "execution_count": 8,
     "metadata": {},
     "output_type": "execute_result"
    },
    {
     "output_type": "display_data",
     "data": {
      "application/databricks.mlflow.trace": "\"tr-d1fa3c523b3d928c3e369e49c25a4674\"",
      "text/plain": [
       "Trace(trace_id=tr-d1fa3c523b3d928c3e369e49c25a4674)"
      ]
     },
     "metadata": {},
     "output_type": "display_data"
    }
   ],
   "source": [
    "from agent import AGENT\n",
    "\n",
    "AGENT.predict({\"input\": [{\"role\": \"user\", \"content\": \"What is the average weighted frequency of schizophrenia cases for different race and ethnicity categories in the NHMACS national dataset?\"}]})\n"
   ]
  },
  {
   "cell_type": "code",
   "execution_count": 0,
   "metadata": {
    "application/vnd.databricks.v1+cell": {
     "cellMetadata": {},
     "inputWidgets": {},
     "nuid": "2a62ee0e-1f85-4cf8-b526-37d8a548d5a5",
     "showTitle": false,
     "tableResultSettingsMap": {},
     "title": ""
    }
   },
   "outputs": [],
   "source": [
    "for chunk in AGENT.predict_stream(\n",
    "    {\"input\": [{\"role\": \"user\", \"content\": \"What is 4*3 in Python?\"}]}\n",
    "):\n",
    "    print(chunk.model_dump(exclude_none=True))"
   ]
  },
  {
   "cell_type": "markdown",
   "metadata": {
    "application/vnd.databricks.v1+cell": {
     "cellMetadata": {},
     "inputWidgets": {},
     "nuid": "5e00c08b-3d52-44d7-bb49-51f9ed0b4bf6",
     "showTitle": false,
     "tableResultSettingsMap": {},
     "title": ""
    }
   },
   "source": [
    "### Log the `agent` as an MLflow model\n",
    "Determine Databricks resources to specify for automatic auth passthrough at deployment time\n",
    "- **TODO**: If your Unity Catalog Function queries a [vector search index](https://learn.microsoft.com/azure/databricks/generative-ai/agent-framework/unstructured-retrieval-tools) or leverages [external functions](https://learn.microsoft.com/azure/databricks/generative-ai/agent-framework/external-connection-tools), you need to include the dependent vector search index and UC connection objects, respectively, as resources. See [docs](https://learn.microsoft.com/azure/databricks/generative-ai/agent-framework/log-agent#specify-resources-for-automatic-authentication-passthrough) for more details.\n",
    "\n",
    "Log the agent as code from the `agent.py` file. See [MLflow - Models from Code](https://mlflow.org/docs/latest/models.html#models-from-code)."
   ]
  },
  {
   "cell_type": "code",
   "execution_count": 0,
   "metadata": {
    "application/vnd.databricks.v1+cell": {
     "cellMetadata": {},
     "inputWidgets": {},
     "nuid": "e064f34d-43f8-4876-9dfc-9924088d0c98",
     "showTitle": false,
     "tableResultSettingsMap": {},
     "title": ""
    }
   },
   "outputs": [],
   "source": [
    "# Determine Databricks resources to specify for automatic auth passthrough at deployment time\n",
    "import mlflow\n",
    "from agent import UC_TOOL_NAMES, VECTOR_SEARCH_TOOLS, LLM_ENDPOINT_NAME\n",
    "from mlflow.models.resources import DatabricksFunction, DatabricksServingEndpoint\n",
    "from pkg_resources import get_distribution\n",
    "\n",
    "resources = [DatabricksServingEndpoint(endpoint_name=LLM_ENDPOINT_NAME)]\n",
    "for tool in VECTOR_SEARCH_TOOLS:\n",
    "    resources.extend(tool.resources)\n",
    "for tool_name in UC_TOOL_NAMES:\n",
    "    # TODO: If the UC function includes dependencies like external connection or vector search, please include them manually.\n",
    "    # See the TODO in the markdown above for more information.    \n",
    "    resources.append(DatabricksFunction(function_name=tool_name))\n",
    "\n",
    "input_example = {\n",
    "    \"input\": [\n",
    "        {\n",
    "            \"role\": \"user\",\n",
    "            \"content\": \"What is an LLM agent?\"\n",
    "        }\n",
    "    ]\n",
    "}\n",
    "\n",
    "with mlflow.start_run():\n",
    "    logged_agent_info = mlflow.pyfunc.log_model(\n",
    "        name=\"agent\",\n",
    "        python_model=\"agent.py\",\n",
    "        input_example=input_example,\n",
    "        pip_requirements=[\n",
    "            \"databricks-openai\",\n",
    "            \"backoff\",\n",
    "            f\"databricks-connect=={get_distribution('databricks-connect').version}\",\n",
    "        ],\n",
    "        resources=resources,\n",
    "    )"
   ]
  },
  {
   "cell_type": "markdown",
   "metadata": {
    "application/vnd.databricks.v1+cell": {
     "cellMetadata": {},
     "inputWidgets": {},
     "nuid": "97820850-1499-4905-9c1e-164e43d87805",
     "showTitle": false,
     "tableResultSettingsMap": {},
     "title": ""
    }
   },
   "source": [
    "## Evaluate the agent with [Agent Evaluation](https://learn.microsoft.com/azure/databricks/mlflow3/genai/eval-monitor)\n",
    "\n",
    "You can edit the requests or expected responses in your evaluation dataset and run evaluation as you iterate your agent, leveraging mlflow to track the computed quality metrics.\n",
    "\n",
    "Evaluate your agent with one of our [predefined LLM scorers](https://learn.microsoft.com/azure/databricks/mlflow3/genai/eval-monitor/predefined-judge-scorers), or try adding [custom metrics](https://learn.microsoft.com/azure/databricks/mlflow3/genai/eval-monitor/custom-scorers)."
   ]
  },
  {
   "cell_type": "code",
   "execution_count": 0,
   "metadata": {
    "application/vnd.databricks.v1+cell": {
     "cellMetadata": {},
     "inputWidgets": {},
     "nuid": "70b03441-fafd-464a-8b9a-2ea4583fc23d",
     "showTitle": false,
     "tableResultSettingsMap": {},
     "title": ""
    }
   },
   "outputs": [],
   "source": [
    "import mlflow\n",
    "from mlflow.genai.scorers import RelevanceToQuery, Safety, RetrievalRelevance, RetrievalGroundedness\n",
    "\n",
    "eval_dataset = [\n",
    "    {\n",
    "        \"inputs\": {\n",
    "            \"input\": [\n",
    "                {\n",
    "                    \"role\": \"user\",\n",
    "                    \"content\": \"What is an LLM agent?\"\n",
    "                }\n",
    "            ]\n",
    "        },\n",
    "        \"expected_response\": None\n",
    "    }\n",
    "]\n",
    "\n",
    "eval_results = mlflow.genai.evaluate(\n",
    "    data=eval_dataset,\n",
    "    predict_fn=lambda input: AGENT.predict({\"input\": input}),\n",
    "    scorers=[RelevanceToQuery(), Safety()], # add more scorers here if they're applicable\n",
    ")\n",
    "\n",
    "# Review the evaluation results in the MLfLow UI (see console output)"
   ]
  },
  {
   "cell_type": "markdown",
   "metadata": {
    "application/vnd.databricks.v1+cell": {
     "cellMetadata": {},
     "inputWidgets": {},
     "nuid": "3dd67442-8514-45ba-8f2d-da62a98a0269",
     "showTitle": false,
     "tableResultSettingsMap": {},
     "title": ""
    }
   },
   "source": [
    "## Perform pre-deployment validation of the agent\n",
    "Before registering and deploying the agent, we perform pre-deployment checks via the [mlflow.models.predict()](https://mlflow.org/docs/latest/python_api/mlflow.models.html#mlflow.models.predict) API. See [documentation](https://learn.microsoft.com/azure/databricks/machine-learning/model-serving/model-serving-debug#validate-inputs) for details"
   ]
  },
  {
   "cell_type": "code",
   "execution_count": 0,
   "metadata": {
    "application/vnd.databricks.v1+cell": {
     "cellMetadata": {},
     "inputWidgets": {},
     "nuid": "77e89822-8a5c-4c26-8000-977eef2fc55c",
     "showTitle": false,
     "tableResultSettingsMap": {},
     "title": ""
    }
   },
   "outputs": [],
   "source": [
    "mlflow.models.predict(\n",
    "    model_uri=f\"runs:/{logged_agent_info.run_id}/agent\",\n",
    "    input_data={\"input\": [{\"role\": \"user\", \"content\": \"Hello!\"}]},\n",
    "    env_manager=\"uv\",\n",
    ")"
   ]
  },
  {
   "cell_type": "markdown",
   "metadata": {
    "application/vnd.databricks.v1+cell": {
     "cellMetadata": {},
     "inputWidgets": {},
     "nuid": "03edc93f-b800-4ac1-b84a-7b658bbb3b2b",
     "showTitle": false,
     "tableResultSettingsMap": {},
     "title": ""
    }
   },
   "source": [
    "## Register the model to Unity Catalog\n",
    "\n",
    "Update the `catalog`, `schema`, and `model_name` below to register the MLflow model to Unity Catalog."
   ]
  },
  {
   "cell_type": "code",
   "execution_count": 0,
   "metadata": {
    "application/vnd.databricks.v1+cell": {
     "cellMetadata": {},
     "inputWidgets": {},
     "nuid": "296976b1-8bce-474f-a05f-4380c760dedd",
     "showTitle": false,
     "tableResultSettingsMap": {},
     "title": ""
    }
   },
   "outputs": [],
   "source": [
    "mlflow.set_registry_uri(\"databricks-uc\")\n",
    "\n",
    "# TODO: define the catalog, schema, and model name for your UC model\n",
    "catalog = \"\"\n",
    "schema = \"\"\n",
    "model_name = \"\"\n",
    "UC_MODEL_NAME = f\"{catalog}.{schema}.{model_name}\"\n",
    "\n",
    "# register the model to UC\n",
    "uc_registered_model_info = mlflow.register_model(\n",
    "    model_uri=logged_agent_info.model_uri, name=UC_MODEL_NAME\n",
    ")"
   ]
  },
  {
   "cell_type": "markdown",
   "metadata": {
    "application/vnd.databricks.v1+cell": {
     "cellMetadata": {},
     "inputWidgets": {},
     "nuid": "41403660-6e4a-48de-a22d-5820f41afea9",
     "showTitle": false,
     "tableResultSettingsMap": {},
     "title": ""
    }
   },
   "source": [
    "## Deploy the agent"
   ]
  },
  {
   "cell_type": "code",
   "execution_count": 0,
   "metadata": {
    "application/vnd.databricks.v1+cell": {
     "cellMetadata": {},
     "inputWidgets": {},
     "nuid": "89a4d3bc-b701-4e4f-8145-039ab189acc2",
     "showTitle": false,
     "tableResultSettingsMap": {},
     "title": ""
    }
   },
   "outputs": [],
   "source": [
    "from databricks import agents\n",
    "agents.deploy(UC_MODEL_NAME, uc_registered_model_info.version, tags = {\"endpointSource\": \"playground\"})"
   ]
  },
  {
   "cell_type": "markdown",
   "metadata": {
    "application/vnd.databricks.v1+cell": {
     "cellMetadata": {},
     "inputWidgets": {},
     "nuid": "238758b7-6fdc-4d2b-8d4c-7c5755b9601c",
     "showTitle": false,
     "tableResultSettingsMap": {},
     "title": ""
    }
   },
   "source": [
    "## Next steps\n",
    "\n",
    "After your agent is deployed, you can chat with it in AI playground to perform additional checks, share it with SMEs in your organization for feedback, or embed it in a production application. See [docs](https://learn.microsoft.com/azure/databricks/generative-ai/deploy-agent) for details"
   ]
  }
 ],
 "metadata": {
  "application/vnd.databricks.v1+notebook": {
   "computePreferences": null,
   "dashboards": [],
   "environmentMetadata": null,
   "inputWidgetPreferences": null,
   "language": "python",
   "notebookMetadata": {
    "pythonIndentUnit": 2
   },
   "notebookName": "driver",
   "widgets": {}
  },
  "language_info": {
   "name": "python"
  }
 },
 "nbformat": 4,
 "nbformat_minor": 0
}